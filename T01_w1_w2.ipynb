{
 "cells": [
  {
   "cell_type": "markdown",
   "metadata": {
    "toc": true
   },
   "source": [
    "<h1>Table of Contents<span class=\"tocSkip\"></span></h1>\n",
    "<div class=\"toc\"><ul class=\"toc-item\"><li><span><a href=\"#Тема-1.-Введение-в-программирование-на-языке-Python\" data-toc-modified-id=\"Тема-1.-Введение-в-программирование-на-языке-Python-1\"><span class=\"toc-item-num\">1&nbsp;&nbsp;</span>Тема 1. Введение в программирование на языке Python</a></span></li><li><span><a href=\"#Задания\" data-toc-modified-id=\"Задания-2\"><span class=\"toc-item-num\">2&nbsp;&nbsp;</span>Задания</a></span></li><li><span><a href=\"#1.-Числовые-и-строковые-типы-данных-языка-Python.-Управляющие-конструкции.\" data-toc-modified-id=\"1.-Числовые-и-строковые-типы-данных-языка-Python.-Управляющие-конструкции.-3\"><span class=\"toc-item-num\">3&nbsp;&nbsp;</span>1. Числовые и строковые типы данных языка Python. Управляющие конструкции.</a></span><ul class=\"toc-item\"><li><span><a href=\"#1.1.-Работа-с-числами.-Базовые-числовые-типы-int-и-float\" data-toc-modified-id=\"1.1.-Работа-с-числами.-Базовые-числовые-типы-int-и-float-3.1\"><span class=\"toc-item-num\">3.1&nbsp;&nbsp;</span>1.1. Работа с числами. Базовые числовые типы int и float</a></span></li><li><span><a href=\"#1.2.-Строки,-функции-и-методы-работы-со-строками\" data-toc-modified-id=\"1.2.-Строки,-функции-и-методы-работы-со-строками-3.2\"><span class=\"toc-item-num\">3.2&nbsp;&nbsp;</span>1.2. Строки, функции и методы работы со строками</a></span></li></ul></li></ul></div>"
   ]
  },
  {
   "cell_type": "markdown",
   "metadata": {},
   "source": [
    "\n",
    "# Тема 1. Введение в программирование на языке Python"
   ]
  },
  {
   "cell_type": "markdown",
   "metadata": {},
   "source": [
    "\n",
    "# Задания\n",
    "\n",
    "Выполните задания\n",
    "\n",
    "# 1. Числовые и строковые типы данных языка Python. Управляющие конструкции.\n",
    "\n",
    "## 1.1. Работа с числами. Базовые числовые типы int и float\n",
    "\n",
    "1. Значения переменных А и В ввести с клавиатуры и вывести на экран. После этого значения меняются местами, т.е. A нужно присвоить значение B, а B – значение A, и вновь значения переменных вывести на экран.\n",
    "\n",
    "Для заданного трехзначного числа выведите число, у которого цифры идут в обратном порядке, например, для числа 123 ответ 321.2. Значение x вводится с клавиатуры. Вычислите $y=(x+1)^2\\cdot \\sqrt{x^3+1}$ Выведите на экран значения $x$ и $y$ с тремя знаками после запятой.\n",
    "\n",
    "3. Вычислите сумму цифр пятизначного числа.\n",
    "\n",
    "4. Для заданного трехзначного числа выведите число, у которого цифры идут в обратном порядке, например, для числа 123 ответ 321.\n",
    "\n",
    "5. Ввести координаты 2 точек: $(x_1,y_1)$ и $(x_2,y_2)$. Вычислите расстояние между этими точками.  Результат выведите с 5 знаками после запятой.\n",
    "\n",
    "6. Разработать программу вычисления по известному радиусу площади круга и длины окружности.\n",
    "\n",
    "7. Разработать программу по вычислению площади кольца по известным значениям его внешнего и внутреннего радиусов.\n",
    "\n",
    "8. Разработать программу вычисления радиуса круга и его площади по известной длине окружности.\n",
    "\n",
    "9. Разработать программу вычисления объема шара: а) по радиусу; б) по длине его экваториальной параллели. Объём шара рассчитывается по формуле $V=\\frac{4}{3}\\pi{r^3}$, где $r$ - радиус.\n",
    "\n",
    "10. Имеются два $n$–мерных вектора $x$ и $y$, которые задают координаты $n$ точек на плоскости (случайные целые числа). Найти наиболее близкие друг другу точки.\n",
    "\n",
    "11. Треугольник задан координатами своих вершин: $(x_1,y_1),(x_2,y_2),(x_3,y_3)$. Значения координат определите с помощью присваивания. Они могут быть нецелыми. Найти периметр и площадь треугольника.\n",
    "\n",
    "12. Пусть пользователь вводит 5 чисел: а, b, c, d, e. Реализуйте программу расчета выражения вида $res=\\frac{a+bc}{2d-e}+Ost[b^e/c]$, где $Ost$ - остаток от деления. Учесть невозможность деления на 0.\n",
    "\n",
    "\n",
    "## 1.2. Строки, функции и методы работы со строками\n",
    "\n",
    "1. Введите строку, состоящую из двух цифр. Преобразуйте ее в целое и вещественное число. Выведите полученные три значения (строку, целое число, вещественное число) на экран в одной строке через запятую, затем пропустите строку и вновь выведите значения по одному на строке. Перед каждым значением выведите его тип.\n",
    "\n",
    "2. Для строки 'Финансовый университет' двумя способами получить подстроку с 1-го по 4-й символы включительно.\n",
    "\n",
    "3. Составить строку из всех четных символов строки 'Финансовый университет'.\n",
    "\n",
    "4. Получить подстроку неизвестной заранее строки, содержащую половину символов строки и расположенную посередине строки.\n",
    "\n",
    "5. Коротко записать создание строки 'oneoneoneoneoneonetwotwotwo'\n",
    "\n",
    "6. Для введенной строки выведите (на отдельной строке):\n",
    "- второй символ этой строки;\n",
    "- предпоследний символ этой строки;\n",
    "- всю строку, кроме последних двух символов;\n",
    "- все символы с четными индексами (считая, что индексация начинается с 0, поэтому символы выводятся, начиная с первого);\n",
    "- все символы с нечетными индексами, то есть начиная со второго символа строки;\n",
    "- все символы в обратном порядке;\n",
    "- все символы строки через один в обратном порядке, начиная с последнего;\n",
    "- длину данной строки.\n",
    "\n",
    "7. Не используя метод count, для заданной строки выполните:\n",
    "- если символ * в данной строке отсутствует, выведите текст «нет символа»;\n",
    "- если символ * встречается в строке только один раз, выведите его индекс;\n",
    "- если символ * встречается два и более раз, выведите индекс его первого, второго и последнего вхождения, удалите первый и последний символ * из строки.\n",
    "\n",
    "8. Дана строка, состоящая из слов, разделенных пробелами. В этой строке:\n",
    "- удалите все лишние пробелы (в начале, в конце, между словами оставить ровно один пробел);\n",
    "- поменяйте регистр символов (строчные сделать прописными, прописные – строчными);\n",
    "- определите, сколько в ней слов.\n",
    "\n",
    "9. Строка содержит фамилию, имя и отчество, записанные через пробелы. Например «Иванов Иван Иванович». Для этой строки:\n",
    "- выведите информацию в виде:\n",
    "```\n",
    "Фамилия       Иванов\n",
    "Имя           Иван\n",
    "Отчество      Иванович\n",
    "```\n",
    "- получите строки вида «Иванов И.И.» и «И.И. Иванов».\n",
    "\n",
    "10. Напишите программу, которая осуществляет вывод кошки на экран. Примечание: кошка выглядят примерно так:\n",
    "```\n",
    "         /\\_/\\ \n",
    "         /@ @\\ \n",
    "        (~~0~~)\n",
    "\n",
    " ```\n",
    "\n",
    "11. Для двух произвольных строк провести сравнение на совпадение содержимого без учета регистра букв и начальных и конечных пробельных символов. Например, для двух строк ' HeLLO WOrlD' и 'hello WORLD ' такое сравнение должно возвращать True (содержание строк совпадает).\n",
    "\n",
    "12. По номеру года определите, является ли данный год високосным. (год является високосным, если его номер кратен 4, но не кратен 100, а также если он кратен 400).\n",
    "\n",
    "18. Даны точки $A=(1,1),B=(5,5),C=(1,4),D=(7,2)$. Найти точку пересечения отрезков $AB$ и $CD$."
   ]
  },
  {
   "cell_type": "code",
   "execution_count": null,
   "outputs": [],
   "source": [],
   "metadata": {
    "collapsed": false
   }
  },
  {
   "cell_type": "markdown",
   "source": [
    "1. Числовые и строковые типы данных языка Python. Управляющие конструкции.\n",
    "\n",
    "## 1.1. Работа с числами. Базовые числовые типы int и float\n",
    "\n",
    "1. Значения переменных А и В ввести с клавиатуры и вывести на экран. После этого значения меняются местами, т.е. A нужно присвоить значение B, а B – значение A, и вновь значения переменных вывести на экран.\n"
   ],
   "metadata": {
    "collapsed": false
   }
  },
  {
   "cell_type": "code",
   "execution_count": null,
   "outputs": [],
   "source": [
    "a = input(\"Введите число А\")\n",
    "b = input(\"Введите число В\")\n",
    "temp = a\n",
    "a = b\n",
    "b = temp\n",
    "\n",
    "print(a,b)"
   ],
   "metadata": {
    "collapsed": false
   }
  },
  {
   "cell_type": "markdown",
   "source": [
    "2. Значение x вводится с клавиатуры. Вычислите $y=(x+1)^2\\cdot \\sqrt{x^3+1}$ Выведите на экран значения $x$ и $y$ с тремя знаками после запятой."
   ],
   "metadata": {
    "collapsed": false
   }
  },
  {
   "cell_type": "code",
   "execution_count": null,
   "outputs": [],
   "source": [
    "import math\n",
    "x = float(input(\"Число x\"))\n",
    "y = (x+1)**2*math.sqrt(x**3+1)\n",
    "print(f\"{x:.3f}\\n\"\n",
    "      f\"{y:.3f}\")"
   ],
   "metadata": {
    "collapsed": false
   }
  },
  {
   "cell_type": "markdown",
   "source": [
    "3. Вычислите сумму цифр пятизначного числа."
   ],
   "metadata": {
    "collapsed": false
   }
  },
  {
   "cell_type": "code",
   "execution_count": 22,
   "outputs": [
    {
     "name": "stdout",
     "output_type": "stream",
     "text": [
      "14\n"
     ]
    }
   ],
   "source": [
    "a = int(input(\"Введите пятизначное число\"))\n",
    "b = 0\n",
    "for i in str(a):\n",
    "    b += int(i)\n",
    "print(b)"
   ],
   "metadata": {
    "collapsed": false,
    "ExecuteTime": {
     "end_time": "2023-09-26T11:23:33.963601800Z",
     "start_time": "2023-09-26T11:23:31.906952400Z"
    }
   }
  },
  {
   "cell_type": "markdown",
   "source": [
    "4. Для заданного трехзначного числа выведите число, у которого цифры идут в обратном порядке, например, для числа 123 ответ 321."
   ],
   "metadata": {
    "collapsed": false
   }
  },
  {
   "cell_type": "code",
   "execution_count": 20,
   "outputs": [
    {
     "name": "stdout",
     "output_type": "stream",
     "text": [
      "4321\n"
     ]
    }
   ],
   "source": [
    "x = input(\"Введите число\")\n",
    "number = \"\"\n",
    "for i in range(1,len(x)+1):\n",
    "    number += x[-i]\n",
    "print(number)"
   ],
   "metadata": {
    "collapsed": false,
    "ExecuteTime": {
     "end_time": "2023-10-05T08:50:31.654722800Z",
     "start_time": "2023-10-05T08:50:30.091839300Z"
    }
   }
  },
  {
   "cell_type": "markdown",
   "source": [
    "5. Ввести координаты 2 точек: $(x_1,y_1)$ и $(x_2,y_2)$. Вычислите расстояние между этими точками.  Результат выведите с 5 знаками после запятой."
   ],
   "metadata": {
    "collapsed": false
   }
  },
  {
   "cell_type": "code",
   "execution_count": 58,
   "outputs": [
    {
     "name": "stdout",
     "output_type": "stream",
     "text": [
      "Расстояние между точками: 2.82843\n"
     ]
    }
   ],
   "source": [
    "x1 = float(input(\"Введите x1: \"))\n",
    "y1 = float(input(\"Введите y1: \"))\n",
    "x2 = float(input(\"Введите x2: \"))\n",
    "y2 = float(input(\"Введите y2: \"))\n",
    "\n",
    "distance = ((x2 - x1)**2 + (y2 - y1)**2)**0.5\n",
    "\n",
    "print(f\"Расстояние между точками: {distance:.5f}\")"
   ],
   "metadata": {
    "collapsed": false,
    "ExecuteTime": {
     "end_time": "2023-10-27T08:35:51.125258400Z",
     "start_time": "2023-10-27T08:35:45.789877600Z"
    }
   }
  },
  {
   "cell_type": "markdown",
   "source": [
    "6. Разработать программу вычисления по известному радиусу площади круга и длины окружности."
   ],
   "metadata": {
    "collapsed": false
   }
  },
  {
   "cell_type": "code",
   "execution_count": 59,
   "outputs": [
    {
     "name": "stdout",
     "output_type": "stream",
     "text": [
      "Площадь круга: 314.1592653589793\n",
      "Длина окружности: 62.83185307179586\n"
     ]
    }
   ],
   "source": [
    "import math\n",
    "radius = float(input(\"Введите радиус круга: \"))\n",
    "area = math.pi * radius ** 2\n",
    "lens = 2 * math.pi * radius\n",
    "print(\"Площадь круга:\", area)\n",
    "print(\"Длина окружности:\", lens)"
   ],
   "metadata": {
    "collapsed": false,
    "ExecuteTime": {
     "end_time": "2023-10-27T08:36:05.423379100Z",
     "start_time": "2023-10-27T08:36:03.876685500Z"
    }
   }
  },
  {
   "cell_type": "markdown",
   "source": [
    "7. Разработать программу по вычислению площади кольца по известным значениям его внешнего и внутреннего радиусов."
   ],
   "metadata": {
    "collapsed": false
   }
  },
  {
   "cell_type": "code",
   "execution_count": 4,
   "outputs": [
    {
     "name": "stdout",
     "output_type": "stream",
     "text": [
      "Площадь кольца: 59.690260418206094\n"
     ]
    }
   ],
   "source": [
    "out_radius = float(input(\"Введите внешний радиус кольца: \"))\n",
    "in_radius = float(input(\"Введите внутренний радиус кольца: \"))\n",
    "out_area = math.pi * out_radius ** 2\n",
    "in_area = math.pi * in_radius ** 2\n",
    "area = out_area - in_area\n",
    "print(\"Площадь кольца:\", area)"
   ],
   "metadata": {
    "collapsed": false,
    "ExecuteTime": {
     "end_time": "2023-10-24T07:48:15.498839800Z",
     "start_time": "2023-10-24T07:48:11.849058500Z"
    }
   }
  },
  {
   "cell_type": "markdown",
   "source": [
    "8. Разработать программу вычисления радиуса круга и его площади по известной длине окружности."
   ],
   "metadata": {
    "collapsed": false
   }
  },
  {
   "cell_type": "code",
   "execution_count": 5,
   "outputs": [
    {
     "name": "stdout",
     "output_type": "stream",
     "text": [
      "Радиус круга: 1.5915494309189535\n",
      "Площадь круга: 7.9577471545947684\n"
     ]
    }
   ],
   "source": [
    "lens = float(input(\"Введите длину окружности: \"))\n",
    "radius = lens / (2 * math.pi)\n",
    "area = math.pi * radius ** 2\n",
    "print(\"Радиус круга:\", radius)\n",
    "print(\"Площадь круга:\", area)"
   ],
   "metadata": {
    "collapsed": false,
    "ExecuteTime": {
     "end_time": "2023-10-24T07:50:46.311322400Z",
     "start_time": "2023-10-24T07:50:44.737304600Z"
    }
   }
  },
  {
   "cell_type": "markdown",
   "source": [
    "9. Разработать программу вычисления объема шара: а) по радиусу; б) по длине его экваториальной параллели. Объём шара рассчитывается по формуле $V=\\frac{4}{3}\\pi{r^3}$, где $r$ - радиус."
   ],
   "metadata": {
    "collapsed": false
   }
  },
  {
   "cell_type": "code",
   "execution_count": 10,
   "outputs": [
    {
     "name": "stdout",
     "output_type": "stream",
     "text": [
      "Объем шара: 4188.790204786391\n",
      "Объем шара: 16.88686394038963\n"
     ]
    }
   ],
   "source": [
    "#a)\n",
    "radius = float(input(\"Введите радиус шара: \"))\n",
    "value = (4/3) * math.pi * radius**3\n",
    "print(\"Объем шара:\", value)\n",
    "#б)\n",
    "lens = float(input(\"Введите длину экваториальной параллели шара: \"))\n",
    "radius = lens / (2 * math.pi)\n",
    "value2 = (4/3) * math.pi * radius**3\n",
    "print(\"Объем шара:\", value2)"
   ],
   "metadata": {
    "collapsed": false,
    "ExecuteTime": {
     "end_time": "2023-10-24T11:12:40.941167300Z",
     "start_time": "2023-10-24T11:12:38.640527Z"
    }
   }
  },
  {
   "cell_type": "markdown",
   "source": [
    "10. Имеются два $n$–мерных вектора $x$ и $y$, которые задают координаты $n$ точек на плоскости (случайные целые числа). Найти наиболее близкие друг другу точки."
   ],
   "metadata": {
    "collapsed": false
   }
  },
  {
   "cell_type": "code",
   "execution_count": 43,
   "outputs": [
    {
     "name": "stdout",
     "output_type": "stream",
     "text": [
      "1.4142135623730951\n",
      "2.8284271247461903\n",
      "4.242640687119285\n",
      "5.656854249492381\n",
      "1.4142135623730951\n",
      "2.8284271247461903\n",
      "4.242640687119285\n",
      "1.4142135623730951\n",
      "2.8284271247461903\n",
      "1.4142135623730951\n",
      "Наиболее близкие точки: [1, 2] [6, 7]\n"
     ]
    }
   ],
   "source": [
    "x = [1, 2, 3, 4, 5]\n",
    "y = [6, 7, 8, 9, 10]\n",
    "n = len(x)\n",
    "closest_x = []\n",
    "closest_y = []\n",
    "min_distance = float('inf')\n",
    "\n",
    "for i in range(n):\n",
    "    for j in range(i+1, n):\n",
    "        distance = math.sqrt((x[i] - x[j])**2 + (y[i] - y[j])**2)\n",
    "        if distance < min_distance:\n",
    "            min_distance = distance\n",
    "            closest_x = [x[i], x[j]]\n",
    "            closest_y = [y[i], y[j]]\n",
    "print('Наиболее близкие точки:', closest_x, closest_y)"
   ],
   "metadata": {
    "collapsed": false,
    "ExecuteTime": {
     "end_time": "2023-10-27T08:13:42.020712Z",
     "start_time": "2023-10-27T08:13:41.985851200Z"
    }
   }
  },
  {
   "cell_type": "markdown",
   "source": [
    "11. Треугольник задан координатами своих вершин: $(x_1,y_1),(x_2,y_2),(x_3,y_3)$. Значения координат определите с помощью присваивания. Они могут быть нецелыми. Найти периметр и площадь треугольника."
   ],
   "metadata": {
    "collapsed": false
   }
  },
  {
   "cell_type": "code",
   "execution_count": 55,
   "outputs": [
    {
     "name": "stdout",
     "output_type": "stream",
     "text": [
      "Периметр треугольника: 12.0\n",
      "Площадь треугольника: 6.0\n"
     ]
    }
   ],
   "source": [
    "x1, y1 = 0, 0\n",
    "x2, y2 = 3, 0\n",
    "x3, y3 = 3, 4\n",
    "a = math.sqrt((x2-x1)**2 + (y2-y1)**2)\n",
    "b = math.sqrt((x3-x2)**2 + (y3-y2)**2)\n",
    "c = math.sqrt((x1-x3)**2 + (y1-y3)**2)\n",
    "P = a + b + c\n",
    "mp = P / 2\n",
    "S = math.sqrt(mp * (mp - a) * (mp - b) * (mp - c))\n",
    "\n",
    "print(\"Периметр треугольника:\", P)\n",
    "print(\"Площадь треугольника:\", S)"
   ],
   "metadata": {
    "collapsed": false,
    "ExecuteTime": {
     "end_time": "2023-10-27T08:26:11.443681300Z",
     "start_time": "2023-10-27T08:26:11.404007100Z"
    }
   }
  },
  {
   "cell_type": "markdown",
   "source": [
    "12. Пусть пользователь вводит 5 чисел: а, b, c, d, e. Реализуйте программу расчета выражения вида $res=\\frac{a+bc}{2d-e}+Ost[b^e/c]$, где $Ost$ - остаток от деления. Учесть невозможность деления на 0."
   ],
   "metadata": {
    "collapsed": false
   }
  },
  {
   "cell_type": "code",
   "execution_count": 18,
   "outputs": [
    {
     "name": "stdout",
     "output_type": "stream",
     "text": [
      "4.333333333333334\n"
     ]
    }
   ],
   "source": [
    "a = float(input(\"Введите число a: \"))\n",
    "b = float(input(\"Введите число b: \"))\n",
    "c = float(input(\"Введите число c: \"))\n",
    "d = float(input(\"Введите число d: \"))\n",
    "e = float(input(\"Введите число e: \"))\n",
    "if 2*d-e != 0:\n",
    "    res = (a+b*c)/(2*d-e)+(b**e)%c\n",
    "    print(res)\n",
    "else:\n",
    "    print(\"Деление на 0 невозможно\")\n"
   ],
   "metadata": {
    "collapsed": false,
    "ExecuteTime": {
     "end_time": "2023-10-24T11:18:33.974948700Z",
     "start_time": "2023-10-24T11:18:31.291097800Z"
    }
   }
  },
  {
   "cell_type": "markdown",
   "source": [
    "## 1.2. Строки, функции и методы работы со строками"
   ],
   "metadata": {
    "collapsed": false
   }
  },
  {
   "cell_type": "markdown",
   "source": [
    "1. Введите строку, состоящую из двух цифр. Преобразуйте ее в целое и вещественное число. Выведите полученные три значения (строку, целое число, вещественное число) на экран в одной строке через запятую, затем пропустите строку и вновь выведите значения по одному на строке. Перед каждым значением выведите его тип."
   ],
   "metadata": {
    "collapsed": false
   }
  },
  {
   "cell_type": "code",
   "execution_count": 29,
   "outputs": [
    {
     "name": "stdout",
     "output_type": "stream",
     "text": [
      "12,12,12.0\n",
      "\n",
      "<class 'str'> 12\n",
      "<class 'int'> 12\n",
      "<class 'float'> 12.0\n"
     ]
    }
   ],
   "source": [
    "str1 = \"12\"\n",
    "int1 = int(str1)\n",
    "float1 = float(str1)\n",
    "print(f\"{str1},{int1},{float1}\")\n",
    "print(f\"\\n{type(str1)} {str1}\\n{type(int1)} {int1}\\n{type(float1)} {float1}\")\n"
   ],
   "metadata": {
    "collapsed": false,
    "ExecuteTime": {
     "end_time": "2023-10-24T11:28:01.355826700Z",
     "start_time": "2023-10-24T11:28:01.320331800Z"
    }
   }
  },
  {
   "cell_type": "markdown",
   "source": [
    "2. Для строки 'Финансовый университет' двумя способами получить подстроку с 1-го по 4-й символы включительно."
   ],
   "metadata": {
    "collapsed": false
   }
  },
  {
   "cell_type": "code",
   "execution_count": 58,
   "outputs": [
    {
     "name": "stdout",
     "output_type": "stream",
     "text": [
      "Фина\n",
      "Фина\n",
      "Фина\n"
     ]
    }
   ],
   "source": [
    "#1\n",
    "string = \"Финансовый университет\"\n",
    "substring1 = string[0:4]\n",
    "print(substring1)\n",
    "#2\n",
    "substring2 = \"\"\n",
    "for x in range(0,4):\n",
    "    substring2 += string[x]\n",
    "print(substring2)\n",
    "#3\n",
    "substring3 = ''.join([string[x] for x in range(0,4)])\n",
    "print(substring3)"
   ],
   "metadata": {
    "collapsed": false
   }
  },
  {
   "cell_type": "markdown",
   "source": [
    "3. Составить строку из всех четных символов строки 'Финансовый университет'."
   ],
   "metadata": {
    "collapsed": false
   }
  },
  {
   "cell_type": "code",
   "execution_count": 59,
   "outputs": [
    {
     "name": "stdout",
     "output_type": "stream",
     "text": [
      "иасвйуиестт\n"
     ]
    }
   ],
   "source": [
    "string = \"Финансовый университет\"\n",
    "substring = string[1::2]\n",
    "print(substring)"
   ],
   "metadata": {
    "collapsed": false
   }
  },
  {
   "cell_type": "markdown",
   "source": [
    "4. Получить подстроку неизвестной заранее строки, содержащую половину символов строки и расположенную посередине строки."
   ],
   "metadata": {
    "collapsed": false
   }
  },
  {
   "cell_type": "code",
   "execution_count": 60,
   "outputs": [
    {
     "name": "stdout",
     "output_type": "stream",
     "text": [
      "4\n",
      "o, wor\n"
     ]
    }
   ],
   "source": [
    "string = \"Hello, world!i\"\n",
    "middle_index = len(string) // 2 \n",
    "substring = string[middle_index - len(string) // 4: middle_index + len(string) // 4]\n",
    "print(middle_index - len(string) // 4)\n",
    "print(substring)"
   ],
   "metadata": {
    "collapsed": false
   }
  },
  {
   "cell_type": "markdown",
   "source": [
    "5. Коротко записать создание строки 'oneoneoneoneoneonetwotwotwo'"
   ],
   "metadata": {
    "collapsed": false
   }
  },
  {
   "cell_type": "code",
   "execution_count": 61,
   "outputs": [
    {
     "name": "stdout",
     "output_type": "stream",
     "text": [
      "oneoneoneoneoneonetwotwotwo\n"
     ]
    }
   ],
   "source": [
    "print(\"one\"*6+\"two\"*3)"
   ],
   "metadata": {
    "collapsed": false
   }
  },
  {
   "cell_type": "markdown",
   "source": [
    "6. Для введенной строки выведите (на отдельной строке):\n",
    "- второй символ этой строки;\n",
    "- предпоследний символ этой строки;\n",
    "- всю строку, кроме последних двух символов;\n",
    "- все символы с четными индексами (считая, что индексация начинается с 0, поэтому символы выводятся, начиная с первого);\n",
    "- все символы с нечетными индексами, то есть начиная со второго символа строки;\n",
    "- все символы в обратном порядке;\n",
    "- все символы строки через один в обратном порядке, начиная с последнего;\n",
    "- длину данной строки."
   ],
   "metadata": {
    "collapsed": false
   }
  },
  {
   "cell_type": "code",
   "execution_count": 62,
   "outputs": [
    {
     "name": "stdout",
     "output_type": "stream",
     "text": [
      "Ваша строка: *hkjhkh*\n",
      "h\n",
      "*\n",
      "*hkjhk\n",
      "*khh\n",
      "hjk*\n",
      "*hkhjkh*\n",
      "*kjh\n",
      "8\n"
     ]
    }
   ],
   "source": [
    "string = input(\"Введите строку\")\n",
    "print(\"Ваша строка:\",string)\n",
    "print(f\"{string[1]}\\n{string[-1]}\\n{string[0:-2]}\\n{string[0::2]}\\n{string[1::2]}\\n{string[::-1]}\\n{string[::-2]}\\n{len(string)}\")"
   ],
   "metadata": {
    "collapsed": false
   }
  },
  {
   "cell_type": "markdown",
   "source": [
    "7. Не используя метод count, для заданной строки выполните:\n",
    "- если символ * в данной строке отсутствует, выведите текст «нет символа»;\n",
    "- если символ * встречается в строке только один раз, выведите его индекс;\n",
    "- если символ * встречается два и более раз, выведите индекс его первого, второго и последнего вхождения, удалите первый и последний символ * из строки."
   ],
   "metadata": {
    "collapsed": false
   }
  },
  {
   "cell_type": "code",
   "execution_count": 86,
   "outputs": [
    {
     "name": "stdout",
     "output_type": "stream",
     "text": [
      "*hgkhg***Gjkhgjgjg***\n",
      "Индекс первого \t 0\n",
      "Индекс второго 6\n",
      "Индекс последнего 20\n",
      "hgkhg***Gjkhgjgjg**\n"
     ]
    }
   ],
   "source": [
    "string = input(\"Введите строку\")\n",
    "print(string)\n",
    "count = 0\n",
    "index = []\n",
    "for i in range(len(string)):\n",
    "    if string[i] == \"*\":\n",
    "        count += 1\n",
    "        index.append(i)\n",
    "        \n",
    "if count == 0:\n",
    "    print(\"нет символа\")\n",
    "if count == 1:\n",
    "    print(index[0])\n",
    "else:\n",
    "    first_index = index[0]\n",
    "    second_index = index[1]\n",
    "    last_index = index[-1]\n",
    "    new_string = string[:first_index] + string[first_index + 1:last_index] + string[last_index + 1:]\n",
    "    print(f\"Индекс первого {first_index}\\nИндекс второго {second_index}\\nИндекс последнего {last_index}\")\n",
    "    print(new_string)\n",
    "    "
   ],
   "metadata": {
    "collapsed": false
   }
  },
  {
   "cell_type": "markdown",
   "source": [
    "8. Дана строка, состоящая из слов, разделенных пробелами. В этой строке:\n",
    "- удалите все лишние пробелы (в начале, в конце, между словами оставить ровно один пробел);\n",
    "- поменяйте регистр символов (строчные сделать прописными, прописные – строчными);\n",
    "- определите, сколько в ней слов."
   ],
   "metadata": {
    "collapsed": false
   }
  },
  {
   "cell_type": "code",
   "execution_count": 114,
   "outputs": [
    {
     "name": "stdout",
     "output_type": "stream",
     "text": [
      "ДанА            строка, СотоящАя                из слов, разделенных пробеламИ. \n",
      " 7\n"
     ]
    }
   ],
   "source": [
    "string = input(\"Введите строку\")\n",
    "string = \" \".join(string.split())\n",
    "string = string.swapcase()\n",
    "words = string.split()\n",
    "len_words = len(words)\n",
    "print(string,\"\\n\",len_words)"
   ],
   "metadata": {
    "collapsed": false
   }
  },
  {
   "cell_type": "markdown",
   "source": [
    "9. Строка содержит фамилию, имя и отчество, записанные через пробелы. Например «Иванов Иван Иванович». Для этой строки:\n",
    "- выведите информацию в виде:\n",
    "```\n",
    "Фамилия       Иванов\n",
    "Имя           Иван\n",
    "Отчество      Иванович\n",
    "```\n",
    "- получите строки вида «Иванов И.И.» и «И.И. Иванов»."
   ],
   "metadata": {
    "collapsed": false
   }
  },
  {
   "cell_type": "code",
   "execution_count": 95,
   "outputs": [
    {
     "name": "stdout",
     "output_type": "stream",
     "text": [
      "Фамилия \tИванов\n",
      "Имя \t\tИван\n",
      "Отчество \tИванович\n",
      "1: Иванов И.И.\n",
      "2: И.И. Иванов \n"
     ]
    }
   ],
   "source": [
    "string = input(\"Введите ФИО через пробел\")\n",
    "last_name, first_name, sur_name = string.split()\n",
    "print(f\"Фамилия \\t{last_name}\\nИмя \\t\\t{first_name}\\nОтчество \\t{sur_name}\")\n",
    "print(f\"1: {last_name} {first_name[0]}.{sur_name[0]}.\")\n",
    "print(f\"2: {sur_name[0]}.{first_name[0]}. {last_name} \")"
   ],
   "metadata": {
    "collapsed": false
   }
  },
  {
   "cell_type": "markdown",
   "source": [
    "10. Напишите программу, которая осуществляет вывод кошки на экран. Примечание: кошка выглядят примерно так:\n",
    "```\n",
    "         /\\_/\\ \n",
    "         /@ @\\ \n",
    "        (~~0~~)\n",
    "\n",
    " ```"
   ],
   "metadata": {
    "collapsed": false
   }
  },
  {
   "cell_type": "code",
   "execution_count": 103,
   "outputs": [
    {
     "name": "stdout",
     "output_type": "stream",
     "text": [
      "\n",
      "         /\\_/\\ \n",
      "         /@ @\\ \n",
      "        (~~0~~)\n",
      "        \n"
     ]
    }
   ],
   "source": [
    "print(\"\"\"\n",
    "         /\\_/\\ \n",
    "         /@ @\\ \n",
    "        (~~0~~)\n",
    "        \"\"\")"
   ],
   "metadata": {
    "collapsed": false
   }
  },
  {
   "cell_type": "markdown",
   "source": [
    "11. Для двух произвольных строк провести сравнение на совпадение содержимого без учета регистра букв и начальных и конечных пробельных символов. Например, для двух строк ' HeLLO WOrlD' и 'hello WORLD ' такое сравнение должно возвращать True (содержание строк совпадает)."
   ],
   "metadata": {
    "collapsed": false
   }
  },
  {
   "cell_type": "code",
   "execution_count": 116,
   "outputs": [
    {
     "name": "stdout",
     "output_type": "stream",
     "text": [
      "True\n"
     ]
    }
   ],
   "source": [
    "string1 = \"    HeLLO WOrlD\"\n",
    "string2 = \"hello WORLD \"\n",
    "find = False\n",
    "string1, string2 = \" \".join(string1.split()), \" \".join(string2.split())\n",
    "if string1.casefold() == string2.casefold():\n",
    "    find = True\n",
    "print(find)\n"
   ],
   "metadata": {
    "collapsed": false
   }
  },
  {
   "cell_type": "markdown",
   "source": [
    "18. Даны точки $A=(1,1),B=(5,5),C=(1,4),D=(7,2)$. Найти точку пересечения отрезков $AB$ и $CD$."
   ],
   "metadata": {
    "collapsed": false
   }
  },
  {
   "cell_type": "code",
   "execution_count": 119,
   "outputs": [
    {
     "name": "stdout",
     "output_type": "stream",
     "text": [
      "(3.25, 3.25)\n"
     ]
    }
   ],
   "source": [
    "a = (1, 1)\n",
    "b = (5, 5)\n",
    "c = (1, 4)\n",
    "D = (7, 2)\n",
    "\n",
    "slope_AB = (b[1] - a[1]) / (b[0] - a[0])\n",
    "intercept_AB = a[1] - slope_AB * a[0]\n",
    "\n",
    "slope_CD = (D[1] - c[1]) / (D[0] - c[0])\n",
    "intercept_CD = c[1] - slope_CD * c[0]\n",
    "\n",
    "if slope_AB == slope_CD:\n",
    "    intersection = None\n",
    "else:\n",
    "    x_intersect = (intercept_CD - intercept_AB) / (slope_AB - slope_CD)\n",
    "    y_intersect = slope_AB * x_intersect + intercept_AB\n",
    "    intersection = (x_intersect, y_intersect)\n",
    "    \n",
    "print(intersection)"
   ],
   "metadata": {
    "collapsed": false
   }
  }
 ],
 "metadata": {
  "kernelspec": {
   "display_name": "Python 3 (ipykernel)",
   "language": "python",
   "name": "python3"
  },
  "language_info": {
   "codemirror_mode": {
    "name": "ipython",
    "version": 3
   },
   "file_extension": ".py",
   "mimetype": "text/x-python",
   "name": "python",
   "nbconvert_exporter": "python",
   "pygments_lexer": "ipython3",
   "version": "3.9.7"
  },
  "toc": {
   "base_numbering": 1,
   "nav_menu": {},
   "number_sections": true,
   "sideBar": true,
   "skip_h1_title": false,
   "title_cell": "Table of Contents",
   "title_sidebar": "Contents",
   "toc_cell": true,
   "toc_position": {},
   "toc_section_display": true,
   "toc_window_display": false
  },
  "varInspector": {
   "cols": {
    "lenName": 16,
    "lenType": 16,
    "lenVar": 40
   },
   "kernels_config": {
    "python": {
     "delete_cmd_postfix": "",
     "delete_cmd_prefix": "del ",
     "library": "var_list.py",
     "varRefreshCmd": "print(var_dic_list())"
    },
    "r": {
     "delete_cmd_postfix": ") ",
     "delete_cmd_prefix": "rm(",
     "library": "var_list.r",
     "varRefreshCmd": "cat(var_dic_list()) "
    }
   },
   "types_to_exclude": [
    "module",
    "function",
    "builtin_function_or_method",
    "instance",
    "_Feature"
   ],
   "window_display": false
  }
 },
 "nbformat": 4,
 "nbformat_minor": 4
}
