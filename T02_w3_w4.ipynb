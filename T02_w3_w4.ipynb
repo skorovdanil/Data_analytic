{
 "cells": [
  {
   "cell_type": "markdown",
   "metadata": {
    "toc": true
   },
   "source": [
    "<h1>Table of Contents<span class=\"tocSkip\"></span></h1>\n",
    "<div class=\"toc\"><ul class=\"toc-item\"><li><span><a href=\"#Тема-2.-Строки-и-коллекции-в-языке-Python\" data-toc-modified-id=\"Тема-2.-Строки-и-коллекции-в-языке-Python-1\"><span class=\"toc-item-num\">1&nbsp;&nbsp;</span>Тема 2. Строки и коллекции в языке Python</a></span></li><li><span><a href=\"#Задания\" data-toc-modified-id=\"Задания-2\"><span class=\"toc-item-num\">2&nbsp;&nbsp;</span>Задания</a></span><ul class=\"toc-item\"><li><span><a href=\"#1.3.-Операторы-сравнения.-Логические-операторы.-Инструкция-ветвления-if...else\" data-toc-modified-id=\"1.3.-Операторы-сравнения.-Логические-операторы.-Инструкция-ветвления-if...else-2.1\"><span class=\"toc-item-num\">2.1&nbsp;&nbsp;</span>1.3. Операторы сравнения. Логические операторы. Инструкция ветвления if...else</a></span></li></ul></li></ul></div>"
   ]
  },
  {
   "cell_type": "markdown",
   "metadata": {},
   "source": [
    "\n",
    "# Тема 2. Строки и коллекции в языке Python"
   ]
  },
  {
   "cell_type": "markdown",
   "metadata": {},
   "source": [
    "# Задания\n",
    "\n",
    "Выполните задания\n",
    "\n"
   ]
  },
  {
   "cell_type": "markdown",
   "metadata": {},
   "source": [
    "## 1.3. Операторы сравнения. Логические операторы. Инструкция ветвления if...else\n",
    "\n",
    "1. Определить время года по номеру месяца.\n",
    "2. Определить минимальное значение среди чисел $a, b, c, d$ (не использовать стандартные функции max и min).\n",
    "3. Напишите программу, которая переводит оценку из 100-балльной системы в пятибалльную по правилам, принятым в университете.\n",
    "4. Вычислить значение $F: F=1$, если цифра $7$ входит в запись заданного трехзначного числа, и $0$ – в противном случае.\n",
    "5. Даны два отрезка $[a;b]$ и $[c;d]$. Найдите их пересечение. Если отрезки не пересекаются, то выдайте сообщение.\n",
    "6. По номеру года определите, является ли данный год високосным. (год является високосным, если его номер кратен 4, но не кратен 100, а также если он кратен 400).\n",
    "7. Для отрезков длины a, b, c определить, можно ли из них составить треугольник и является ли этот треугольник прямоугольным.\n",
    "8. Напишите программу для решения уравнения\n",
    "$$ ax^2+bx+c=0 $$\n",
    "Коэффициенты $a, b, c$ могут быть любыми числами. \n",
    "9. Вводится целое число. Выведите его на экран и допишите к нему слова «рубль», «рубля» или «рублей» в зависимости от значения. Алгоритм: \n",
    "- исключение: если число оканчивается на 11, 12, 13 или 14, добавляем слово «рублей»; \n",
    "- если число оканчивается на 1, добавляем слово «рубль»; \n",
    "- если число оканчивается на 2, 3 или 4, добавляем слово «рубля»; \n",
    "- если число оканчивается на цифры 5, 6, 7, 8, 9 или 0, добавляем слово «рублей».\n",
    "\n",
    "10. Пользователь поочередно вводит координаты точки в декартовой системе координат. Определить, какой четверти принадлежит данная точка или на какой оси она находится. Расположение точки вывести на экран. Найти произведение номера четверти на расстояние от этой точки до начала координат и вывести его на экран. Если точка лежит на оси, считать, что номер четверти равен 0.\n",
    "11. Выведите значение заданного целого числа от 0 до 999 прописью. Например, «сто девяносто один» для числа 191, «одиннадцать» для числа 11. \n",
    "12. Вычислите значение выражения, которое состоит из целых чисел и знаков «+» и «-». Выражение вводится как символьная строка.\n",
    "13. Пользователь поочередно вводит 2 строки. Определите, какая строка длиннее и на сколько символов, а какая строка стоит раньше в лексикографическом порядке. Собрать результирующую строку, которая бы содержала 1 и 2 строки, разделенные переносом строки.\n",
    "14. Реализовать калькулятор, который принимает от пользователя через пробел строку следующего вида: «a op b», где a и b – некоторые числа, а ‘op’ определяет оператор и может принимать значения $«+,-,*,/,**,%»$. В зависимости от оператора с помощью форматирования строк вывести результат в виде: «a + b = 3 + 2 = 5», где была получена строка «3 + 2». Для операций возведения в степень и деления по модулю использовать вместо знака оператора соответствующие выражения. Например, для строки «2 ** 3» должно быть выведено «a в степени b = 2 в степени 3 = 8».\n",
    "15. Напишите программу, которая в зависимости от введенного пользователем числа N, осуществляет вывод N кошек на экран. Пусть 1<= N <=10. Примечание: кошки при N=3 выглядят примерно так\n",
    "```\n",
    " /\\__/\\ /\\__/\\ /\\__/\\\n",
    " /@ @\\ /@ @\\ /@ @\\\n",
    " (~~0~~) (~~0~~) (~~0~~)\n",
    "```\n",
    "16. Имеются два n – мерных вектора x и y, которые задают координаты n точек на плоскости (случайные целые числа). Найти наиболее близкие друг другу точки.\n",
    "17. Из множества целых чисел от 1 до N выделить множество N2 числа, кратные 2, множество N3 – кратные 3, множество N 6 – кратные 6 (т.е. кратные и 2 и 3), множество N 23 – кратные либо 2, либо 3.\n",
    "18. Даны m (m>1) слов. Найти общее количество заданной буквы в этих словах.\n",
    "19. Даны m (m>1) слов. В каком из них доля (в %) заданной буквы больше."
   ]
  },
  {
   "cell_type": "markdown",
   "source": [
    "## 1.3. Операторы сравнения. Логические операторы. Инструкция ветвления if...else"
   ],
   "metadata": {
    "collapsed": false
   }
  },
  {
   "cell_type": "markdown",
   "source": [
    "1. Определить время года по номеру месяца."
   ],
   "metadata": {
    "collapsed": false
   }
  },
  {
   "cell_type": "code",
   "execution_count": 5,
   "outputs": [
    {
     "name": "stdout",
     "output_type": "stream",
     "text": [
      "Осень\n"
     ]
    }
   ],
   "source": [
    "month = int(input(\"Введите номер месяца\"))\n",
    "if month in [1,2,12]:\n",
    "    print(\"Зима\")\n",
    "if month in [3,4,5]:\n",
    "    print(\"Весна\")  \n",
    "if month in [6,7,8]:\n",
    "    print(\"Лето\") \n",
    "if month in [9,10,11]:\n",
    "    print(\"Осень\")   "
   ],
   "metadata": {
    "collapsed": false,
    "ExecuteTime": {
     "end_time": "2023-10-27T08:39:18.552977600Z",
     "start_time": "2023-10-27T08:39:16.768253400Z"
    }
   }
  },
  {
   "cell_type": "markdown",
   "source": [
    "2. Определить минимальное значение среди чисел $a, b, c, d$ (не использовать стандартные функции max и min)."
   ],
   "metadata": {
    "collapsed": false
   }
  },
  {
   "cell_type": "code",
   "execution_count": 8,
   "outputs": [
    {
     "name": "stdout",
     "output_type": "stream",
     "text": [
      "(c) меньше\n"
     ]
    }
   ],
   "source": [
    "a,b,c,d = 4,3,2,5\n",
    "if a < b and a < c and a < d:\n",
    "    print(\"(a) меньше\")\n",
    "elif b < a and b < c and b < d:\n",
    "    print(\"(b) меньше\")\n",
    "elif c < a and c < b and c < d:\n",
    "    print(\"(c) меньше\")\n",
    "else:\n",
    "    print(\"(d) меньше\")\n",
    "    "
   ],
   "metadata": {
    "collapsed": false,
    "ExecuteTime": {
     "end_time": "2023-10-27T08:50:20.639678300Z",
     "start_time": "2023-10-27T08:50:20.596328200Z"
    }
   }
  },
  {
   "cell_type": "markdown",
   "source": [
    "3. Напишите программу, которая переводит оценку из 100-балльной системы в пятибалльную по правилам, принятым в университете."
   ],
   "metadata": {
    "collapsed": false
   }
  },
  {
   "cell_type": "code",
   "execution_count": 23,
   "outputs": [
    {
     "name": "stdout",
     "output_type": "stream",
     "text": [
      "2\n"
     ]
    }
   ],
   "source": [
    "score = int(input(\"Введите оценку по 100-бальной системе\"))\n",
    "if score > 80:\n",
    "    print(5)\n",
    "elif score > 60:\n",
    "    print(4)\n",
    "elif score > 40:\n",
    "    print(3)\n",
    "else:\n",
    "    print(2)"
   ],
   "metadata": {
    "collapsed": false,
    "ExecuteTime": {
     "end_time": "2023-10-27T08:57:55.021373600Z",
     "start_time": "2023-10-27T08:57:52.844282600Z"
    }
   }
  },
  {
   "cell_type": "markdown",
   "source": [
    "4. Вычислить значение $F: F=1$, если цифра $7$ входит в запись заданного трехзначного числа, и $0$ – в противном случае."
   ],
   "metadata": {
    "collapsed": false
   }
  },
  {
   "cell_type": "code",
   "execution_count": 25,
   "outputs": [
    {
     "name": "stdout",
     "output_type": "stream",
     "text": [
      "Значение F: 0\n"
     ]
    }
   ],
   "source": [
    "number = input(\"Введите трехзначное число: \")\n",
    "if '7' in number:\n",
    "    F = 1\n",
    "else:\n",
    "    F = 0\n",
    "print(\"Значение F:\", F)"
   ],
   "metadata": {
    "collapsed": false,
    "ExecuteTime": {
     "end_time": "2023-10-27T09:08:12.361678Z",
     "start_time": "2023-10-27T09:08:09.090778800Z"
    }
   }
  },
  {
   "cell_type": "markdown",
   "source": [
    "5. Даны два отрезка $[a;b]$ и $[c;d]$. Найдите их пересечение. Если отрезки не пересекаются, то выдайте сообщение."
   ],
   "metadata": {
    "collapsed": false
   }
  },
  {
   "cell_type": "code",
   "execution_count": 29,
   "outputs": [
    {
     "name": "stdout",
     "output_type": "stream",
     "text": [
      "Отрезки пересекаются в точках:  [3, 5]\n"
     ]
    }
   ],
   "source": [
    "a,b = int(input(\"Введите a\")), int(input(\"Введите b\"))\n",
    "c,d = int(input(\"Введите c\")), int(input(\"Введите d\"))\n",
    "if b < c:\n",
    "    print(\"Отрезки пересекаются в точках: \",[b,c])\n",
    "elif d < a: \n",
    "    print(\"Отрезки пересекаются в точках: \",[a,d])\n",
    "else:\n",
    "    print(\"Отрезки не пересекаются\")"
   ],
   "metadata": {
    "collapsed": false,
    "ExecuteTime": {
     "end_time": "2023-10-27T13:43:29.754010300Z",
     "start_time": "2023-10-27T13:43:21.403734400Z"
    }
   }
  },
  {
   "cell_type": "markdown",
   "source": [
    "6. По номеру года определите, является ли данный год високосным. (год является високосным, если его номер кратен 4, но не кратен 100, а также если он кратен 400)."
   ],
   "metadata": {
    "collapsed": false
   }
  },
  {
   "cell_type": "code",
   "execution_count": 46,
   "outputs": [
    {
     "name": "stdout",
     "output_type": "stream",
     "text": [
      "Этот год високосный\n"
     ]
    }
   ],
   "source": [
    "year = int(input(\"Введите год\"))\n",
    "if (year % 4 == 0 and year % 100 != 0) or year % 400 == 0:\n",
    "    print(\"Этот год високосный\")\n",
    "else:\n",
    "    print(\"Это обычный год\")"
   ],
   "metadata": {
    "collapsed": false,
    "ExecuteTime": {
     "end_time": "2023-10-27T13:50:53.652683900Z",
     "start_time": "2023-10-27T13:50:52.298851500Z"
    }
   }
  },
  {
   "cell_type": "markdown",
   "source": [
    "7. Для отрезков длины a, b, c определить, можно ли из них составить треугольник и является ли этот треугольник прямоугольным."
   ],
   "metadata": {
    "collapsed": false
   }
  },
  {
   "cell_type": "code",
   "execution_count": 49,
   "outputs": [
    {
     "name": "stdout",
     "output_type": "stream",
     "text": [
      "Треугольник существует\n"
     ]
    }
   ],
   "source": [
    "a = float(input(\"a = \"))\n",
    "b = float(input(\"b = \"))\n",
    "c = float(input(\"c = \"))\n",
    " \n",
    "if a + b > c and a + c > b and b + c > a:\n",
    "    print(\"Треугольник существует\")\n",
    "else:\n",
    "    print(\"Треугольник не существует\")"
   ],
   "metadata": {
    "collapsed": false,
    "ExecuteTime": {
     "end_time": "2023-10-27T13:54:04.518307300Z",
     "start_time": "2023-10-27T13:54:02.508330900Z"
    }
   }
  },
  {
   "cell_type": "markdown",
   "source": [
    "8. Напишите программу для решения уравнения\n",
    "$$ ax^2+bx+c=0 $$\n",
    "Коэффициенты $a, b, c$ могут быть любыми числами. "
   ],
   "metadata": {
    "collapsed": false
   }
  },
  {
   "cell_type": "code",
   "execution_count": 77,
   "outputs": [
    {
     "name": "stdout",
     "output_type": "stream",
     "text": [
      "-359.0\n",
      "Корень x1 = -18.5\n",
      "Корень x2 = 17.4\n"
     ]
    }
   ],
   "source": [
    "import math\n",
    "a = float(input(\"Введите коэффициент a: \"))\n",
    "b = float(input(\"Введите коэффициент b: \"))\n",
    "c = float(input(\"Введите коэффициент c: \"))\n",
    "discriminant = b**2 - 4*a*c\n",
    "print(discriminant)\n",
    "if discriminant >= 0:\n",
    "    x1 = (-b + discriminant) / (2*a)\n",
    "    x2 = (-b - discriminant) / (2*a)\n",
    "else:\n",
    "    x1 = (-b + discriminant) / (2*a)\n",
    "    x2 = (-b - discriminant) / (2*a)\n",
    "\n",
    "print(\"Корень x1 =\", x1)\n",
    "print(\"Корень x2 =\", x2)"
   ],
   "metadata": {
    "collapsed": false,
    "ExecuteTime": {
     "end_time": "2023-10-27T14:09:17.809332600Z",
     "start_time": "2023-10-27T14:09:15.560259Z"
    }
   }
  },
  {
   "cell_type": "markdown",
   "source": [
    "9. Вводится целое число. Выведите его на экран и допишите к нему слова «рубль», «рубля» или «рублей» в зависимости от значения. Алгоритм: \n",
    "- исключение: если число оканчивается на 11, 12, 13 или 14, добавляем слово «рублей»; \n",
    "- если число оканчивается на 1, добавляем слово «рубль»; \n",
    "- если число оканчивается на 2, 3 или 4, добавляем слово «рубля»; \n",
    "- если число оканчивается на цифры 5, 6, 7, 8, 9 или 0, добавляем слово «рублей».\n"
   ],
   "metadata": {
    "collapsed": false
   }
  },
  {
   "cell_type": "code",
   "execution_count": 84,
   "outputs": [
    {
     "name": "stdout",
     "output_type": "stream",
     "text": [
      "101 рубль\n"
     ]
    }
   ],
   "source": [
    "number = int(input(\"Введите целое число\"))\n",
    "if number % 10 == 1 and number % 100 != 11:\n",
    "    print(number, \"рубль\")\n",
    "elif number % 10 in [2, 3, 4] and number % 100 not in [12, 13, 14]:\n",
    "    print(number, \"рубля\")\n",
    "else:\n",
    "    print(number, \"рублей\")"
   ],
   "metadata": {
    "collapsed": false,
    "ExecuteTime": {
     "end_time": "2023-10-27T14:11:13.213644Z",
     "start_time": "2023-10-27T14:11:12.504274100Z"
    }
   }
  },
  {
   "cell_type": "markdown",
   "source": [
    "10. Пользователь поочередно вводит координаты точки в декартовой системе координат. Определить, какой четверти принадлежит данная точка или на какой оси она находится. Расположение точки вывести на экран. Найти произведение номера четверти на расстояние от этой точки до начала координат и вывести его на экран. Если точка лежит на оси, считать, что номер четверти равен 0."
   ],
   "metadata": {
    "collapsed": false
   }
  },
  {
   "cell_type": "code",
   "execution_count": 85,
   "outputs": [
    {
     "name": "stdout",
     "output_type": "stream",
     "text": [
      "Точка принадлежит первой четверти\n",
      "Произведение номера четверти на расстояние от точки до начала координат: 14.866068747318506\n"
     ]
    }
   ],
   "source": [
    "x = float(input(\"Введите координату x: \"))\n",
    "y = float(input(\"Введите координату y: \"))\n",
    "\n",
    "if x > 0 and y > 0:\n",
    "    print(\"Точка принадлежит первой четверти\")\n",
    "    quadrant = 1\n",
    "elif x < 0 and y > 0:\n",
    "    print(\"Точка принадлежит второй четверти\")\n",
    "    quadrant = 2\n",
    "elif x < 0 and y < 0:\n",
    "    print(\"Точка принадлежит третьей четверти\")\n",
    "    quadrant = 3\n",
    "elif x > 0 and y < 0:\n",
    "    print(\"Точка принадлежит четвертой четверти\")\n",
    "    quadrant = 4\n",
    "else:\n",
    "    print(\"Точка находится на оси\")\n",
    "    quadrant = 0\n",
    "\n",
    "distance = (x ** 2 + y ** 2) ** 0.5\n",
    "product = quadrant * distance\n",
    "print(\"Произведение номера четверти на расстояние от точки до начала координат:\", product)"
   ],
   "metadata": {
    "collapsed": false,
    "ExecuteTime": {
     "end_time": "2023-10-27T14:12:59.075524800Z",
     "start_time": "2023-10-27T14:12:55.020099100Z"
    }
   }
  },
  {
   "cell_type": "markdown",
   "source": [
    "11. Выведите значение заданного целого числа от 0 до 999 прописью. Например, «сто девяносто один» для числа 191, «одиннадцать» для числа 11. "
   ],
   "metadata": {
    "collapsed": false
   }
  },
  {
   "cell_type": "code",
   "execution_count": 93,
   "outputs": [
    {
     "name": "stdout",
     "output_type": "stream",
     "text": [
      "сто тридцать один \n"
     ]
    }
   ],
   "source": [
    "num = int(input(\"Введите число от 0 до 999: \"))\n",
    "\n",
    "ones = [\"\", \"один\", \"два\", \"три\", \"четыре\", \"пять\", \"шесть\", \"семь\", \"восемь\", \"девять\"]\n",
    "teens = [\"десять\", \"одиннадцать\", \"двенадцать\", \"тринадцать\", \"четырнадцать\", \"пятнадцать\", \"шестнадцать\", \"семнадцать\", \"восемнадцать\", \"девятнадцать\"]\n",
    "tens = [\"\", \"\", \"двадцать\", \"тридцать\", \"сорок\", \"пятьдесят\", \"шестьдесят\", \"семьдесят\", \"восемьдесят\", \"девяносто\"]\n",
    "hundreds = [\"\", \"сто\", \"двести\", \"триста\", \"четыреста\", \"пятьсот\", \"шестьсот\", \"семьсот\", \"восемьсот\", \"девятьсот\"]\n",
    "\n",
    "if num == 0:\n",
    "    print(\"ноль\")\n",
    "else:\n",
    "    result = \"\"\n",
    "    if num // 100 > 0:\n",
    "        result += hundreds[num // 100] + \" \"\n",
    "    if num % 100 // 10 == 1:\n",
    "        result += teens[num % 10] + \" \"\n",
    "    else:\n",
    "        result += tens[num % 100 // 10] + \" \"\n",
    "        result += ones[num % 10] + \" \"\n",
    "    \n",
    "    print(result)"
   ],
   "metadata": {
    "collapsed": false,
    "ExecuteTime": {
     "end_time": "2023-10-27T14:23:41.224039600Z",
     "start_time": "2023-10-27T14:23:40.284695500Z"
    }
   }
  },
  {
   "cell_type": "markdown",
   "source": [
    "12. Вычислите значение выражения, которое состоит из целых чисел и знаков «+» и «-». Выражение вводится как символьная строка."
   ],
   "metadata": {
    "collapsed": false
   }
  },
  {
   "cell_type": "code",
   "execution_count": 104,
   "outputs": [
    {
     "name": "stdout",
     "output_type": "stream",
     "text": [
      "9\n"
     ]
    }
   ],
   "source": [
    "expression = \"7 + 5 - 3\"\n",
    "result = 0\n",
    "operation = \"+\"\n",
    "num = 0\n",
    "\n",
    "for char in expression:\n",
    "    if char.isdigit():\n",
    "        num = num * 10 + int(char)\n",
    "    elif char == \"+\" or char == \"-\":\n",
    "        if operation == \"+\":\n",
    "            result += num\n",
    "        else:\n",
    "            result -= num\n",
    "        num = 0\n",
    "        operation = char\n",
    "    elif char == \" \":\n",
    "        continue\n",
    "\n",
    "if operation == \"+\":\n",
    "    result += num\n",
    "else:\n",
    "    result -= num\n",
    "    \n",
    "print(result)"
   ],
   "metadata": {
    "collapsed": false,
    "ExecuteTime": {
     "end_time": "2023-10-27T14:34:06.565940800Z",
     "start_time": "2023-10-27T14:34:06.552435900Z"
    }
   }
  },
  {
   "cell_type": "markdown",
   "source": [
    "13. Пользователь поочередно вводит 2 строки. Определите, какая строка длиннее и на сколько символов, а какая строка стоит раньше в лексикографическом порядке. Собрать результирующую строку, которая бы содержала 1 и 2 строки, разделенные переносом строки."
   ],
   "metadata": {
    "collapsed": false
   }
  },
  {
   "cell_type": "code",
   "execution_count": 108,
   "outputs": [
    {
     "name": "stdout",
     "output_type": "stream",
     "text": [
      "Длиннее строка: eferf 3r f43 r423\n",
      "Разница в длине: 5\n",
      "Строка, стоящая раньше в лексикографическом порядке: eferf 3r f43 r423\n",
      "Результирующая строка: eferf 3r f43 r423\n",
      "r2ef2ef f2ef\n"
     ]
    }
   ],
   "source": [
    "string1 = input(\"Введите первую строку: \")\n",
    "string2 = input(\"Введите вторую строку: \")\n",
    "\n",
    "length1 = len(string1)\n",
    "length2 = len(string2)\n",
    "\n",
    "if length1 > length2:\n",
    "    longer_string = string1\n",
    "    difference = length1 - length2\n",
    "else:\n",
    "    longer_string = string2\n",
    "    difference = length2 - length1\n",
    "\n",
    "if string1 < string2:\n",
    "    first_string = string1\n",
    "    second_string = string2\n",
    "else:\n",
    "    first_string = string2\n",
    "    second_string = string1\n",
    "\n",
    "result = first_string + \"\\n\" + second_string\n",
    "\n",
    "print(\"Длиннее строка:\", longer_string)\n",
    "print(\"Разница в длине:\", difference)\n",
    "print(\"Строка, стоящая раньше в лексикографическом порядке:\", first_string)\n",
    "print(\"Результирующая строка:\", result)"
   ],
   "metadata": {
    "collapsed": false,
    "ExecuteTime": {
     "end_time": "2023-10-27T14:36:28.469914900Z",
     "start_time": "2023-10-27T14:36:24.513867400Z"
    }
   }
  },
  {
   "cell_type": "markdown",
   "source": [
    "14. Реализовать калькулятор, который принимает от пользователя через пробел строку следующего вида: «a op b», где a и b – некоторые числа, а ‘op’ определяет оператор и может принимать значения $«+,-,*,/,**,%»$. В зависимости от оператора с помощью форматирования строк вывести результат в виде: «a + b = 3 + 2 = 5», где была получена строка «3 + 2». Для операций возведения в степень и деления по модулю использовать вместо знака оператора соответствующие выражения. Например, для строки «2 ** 3» должно быть выведено «a в степени b = 2 в степени 3 = 8»."
   ],
   "metadata": {
    "collapsed": false
   }
  },
  {
   "cell_type": "code",
   "execution_count": 114,
   "outputs": [
    {
     "name": "stdout",
     "output_type": "stream",
     "text": [
      "a + b = 1 + 2 = 3\n"
     ]
    }
   ],
   "source": [
    "string = input(\"Введите строку в формате 'a op b': \")\n",
    "numbers = string.split()\n",
    "a = int(numbers[0])\n",
    "b = int(numbers[2])\n",
    "op = numbers[1]\n",
    "\n",
    "if op == '+':\n",
    "    result = a + b\n",
    "    operator = '+'\n",
    "elif op == '-':\n",
    "    result = a - b\n",
    "    operator = '-'\n",
    "elif op == '*':\n",
    "    result = a * b\n",
    "    operator = '*'\n",
    "elif op == '/':\n",
    "    result = a / b\n",
    "    operator = '/'\n",
    "elif op == '%':\n",
    "    result = a % b\n",
    "    operator = '%'\n",
    "elif op == '**':\n",
    "    result = a ** b\n",
    "    operator = 'в степени'\n",
    "\n",
    "output_string = \"{} {} {} = {} {} {} = {}\".format(\"a\", operator, \"b\", a, operator, b, result)\n",
    "\n",
    "print(output_string)"
   ],
   "metadata": {
    "collapsed": false,
    "ExecuteTime": {
     "end_time": "2023-10-27T14:39:54.624961100Z",
     "start_time": "2023-10-27T14:39:52.285268400Z"
    }
   }
  },
  {
   "cell_type": "markdown",
   "source": [
    "15. Напишите программу, которая в зависимости от введенного пользователем числа N, осуществляет вывод N кошек на экран. Пусть 1<= N <=10. Примечание: кошки при N=3 выглядят примерно так\n",
    "```\n",
    " /\\__/\\ /\\__/\\ /\\__/\\\n",
    " /@ @\\ /@ @\\ /@ @\\\n",
    " (~~0~~) (~~0~~) (~~0~~)\n",
    "```"
   ],
   "metadata": {
    "collapsed": false
   }
  },
  {
   "cell_type": "code",
   "execution_count": 119,
   "outputs": [
    {
     "name": "stdout",
     "output_type": "stream",
     "text": [
      "/\\__/\\ /\\__/\\ /\\__/\\ /\\__/\\ /\\__/\\ \n",
      " /@ @\\  /@ @\\  /@ @\\  /@ @\\  /@ @\\ \n",
      "(~~0~~)(~~0~~)(~~0~~)(~~0~~)(~~0~~)\n"
     ]
    }
   ],
   "source": [
    "n = int(input(\"Введите количество кошек (от 1 до 10): \"))\n",
    "\n",
    "if 1 <= n <= 10:\n",
    "    print(\"/\\__/\\ \" * n)\n",
    "    print(\" /@ @\\ \"* n)\n",
    "    print(\"(~~0~~)\"* n)"
   ],
   "metadata": {
    "collapsed": false,
    "ExecuteTime": {
     "end_time": "2023-10-27T14:44:35.693676400Z",
     "start_time": "2023-10-27T14:44:33.863614900Z"
    }
   }
  },
  {
   "cell_type": "markdown",
   "source": [
    "16. Имеются два n – мерных вектора x и y, которые задают координаты n точек на плоскости (случайные целые числа). Найти наиболее близкие друг другу точки."
   ],
   "metadata": {
    "collapsed": false
   }
  },
  {
   "cell_type": "code",
   "execution_count": 2,
   "outputs": [],
   "source": [
    "x = [1, 2, 3, 4, 5]\n",
    "y = [6, 7, 8, 9, 10]\n",
    "n = len(x)\n",
    "closest_x = []\n",
    "closest_y = []\n",
    "min_distance = float('inf')\n",
    "\n",
    "for i in range(n):\n",
    "    for j in range(i+1, n):\n",
    "        distance = math.sqrt((x[i] - x[j])**2 + (y[i] - y[j])**2)\n",
    "        if distance < min_distance:\n",
    "            min_distance = distance\n",
    "            closest_x = [x[i], x[j]]\n",
    "            closest_y = [y[i], y[j]]\n",
    "print('Наиболее близкие точки:', closest_x, closest_y)"
   ],
   "metadata": {
    "collapsed": false,
    "ExecuteTime": {
     "end_time": "2023-10-27T08:30:38.499791700Z",
     "start_time": "2023-10-27T08:30:38.484173700Z"
    }
   }
  },
  {
   "cell_type": "markdown",
   "source": [
    "17. Из множества целых чисел от 1 до N выделить множество N2 числа, кратные 2, множество N3 – кратные 3, множество N 6 – кратные 6 (т.е. кратные и 2 и 3), множество N 23 – кратные либо 2, либо 3."
   ],
   "metadata": {
    "collapsed": false
   }
  },
  {
   "cell_type": "code",
   "execution_count": 2,
   "outputs": [],
   "source": [
    "N = int(input(\"Введите число N: \"))\n",
    "\n",
    "N2 = set()\n",
    "N3 = set()\n",
    "N6 = set()\n",
    "N23 = set()\n",
    "\n",
    "for i in range(1, N+1):\n",
    "    if i % 2 == 0:\n",
    "        N2.add(i)\n",
    "    if i % 3 == 0:\n",
    "        N3.add(i)\n",
    "    if i % 6 == 0:\n",
    "        N6.add(i)\n",
    "    if i % 2 == 0 or i % 3 == 0:\n",
    "        N23.add(i)\n",
    "\n",
    "print(\"Множество N2:\", N2)\n",
    "print(\"Множество N3:\", N3)\n",
    "print(\"Множество N6:\", N6)\n",
    "print(\"Множество N23:\", N23)"
   ],
   "metadata": {
    "collapsed": false,
    "ExecuteTime": {
     "end_time": "2023-10-27T08:30:39.113806500Z",
     "start_time": "2023-10-27T08:30:39.100148700Z"
    }
   }
  },
  {
   "cell_type": "markdown",
   "source": [
    "18. Даны m (m>1) слов. Найти общее количество заданной буквы в этих словах."
   ],
   "metadata": {
    "collapsed": false
   }
  },
  {
   "cell_type": "code",
   "execution_count": 124,
   "outputs": [
    {
     "name": "stdout",
     "output_type": "stream",
     "text": [
      "Общее количество буквы 'gtgt' в заданных словах: 1\n"
     ]
    }
   ],
   "source": [
    "m = int(input(\"Введите количество слов: \"))\n",
    "words = []\n",
    "for i in range(m):\n",
    "    word = input(\"Введите слово: \")\n",
    "    words.append(word)\n",
    "\n",
    "letter = input(\"Введите букву для подсчета: \")\n",
    "\n",
    "count = 0\n",
    "for word in words:\n",
    "    count += word.count(letter)\n",
    "\n",
    "print(f\"Общее количество буквы '{letter}' в заданных словах: {count}\")"
   ],
   "metadata": {
    "collapsed": false,
    "ExecuteTime": {
     "end_time": "2023-10-27T14:53:25.320510200Z",
     "start_time": "2023-10-27T14:53:16.051552100Z"
    }
   }
  },
  {
   "cell_type": "markdown",
   "source": [
    "19. Даны m (m>1) слов. В каком из них доля (в %) заданной буквы больше."
   ],
   "metadata": {
    "collapsed": false
   }
  },
  {
   "cell_type": "code",
   "execution_count": null,
   "outputs": [],
   "source": [
    "def calculate_letter_percentage(word, letter):\n",
    "    count = word.count(letter)\n",
    "    total = len(word)\n",
    "    percentage = (count / total) * 100\n",
    "    return percentage\n",
    "\n",
    "def find_word_with_highest_percentage(words, letter):\n",
    "    highest_percentage = 0\n",
    "    word_with_highest_percentage = \"\"\n",
    "\n",
    "    for word in words:\n",
    "        percentage = calculate_letter_percentage(word, letter)\n",
    "        if percentage > highest_percentage:\n",
    "            highest_percentage = percentage\n",
    "            word_with_highest_percentage = word\n",
    "\n",
    "    return word_with_highest_percentage, highest_percentage\n",
    "\n",
    "# Пример использования функции\n",
    "m = int(input(\"Введите количество слов: \"))\n",
    "words = []\n",
    "for i in range(m):\n",
    "    word = input(\"Введите слово: \")\n",
    "    words.append(word)\n",
    "\n",
    "letter = input(\"Введите букву: \")\n",
    "\n",
    "word, percentage = find_word_with_highest_percentage(words, letter)\n",
    "print(f\"Слово с наибольшей долей буквы '{letter}': {word}\")\n",
    "print(f\"Доля буквы '{letter}' в слове: {percentage}%\")"
   ],
   "metadata": {
    "collapsed": false
   }
  }
 ],
 "metadata": {
  "kernelspec": {
   "display_name": "Python 3 (ipykernel)",
   "language": "python",
   "name": "python3"
  },
  "language_info": {
   "codemirror_mode": {
    "name": "ipython",
    "version": 3
   },
   "file_extension": ".py",
   "mimetype": "text/x-python",
   "name": "python",
   "nbconvert_exporter": "python",
   "pygments_lexer": "ipython3",
   "version": "3.9.7"
  },
  "toc": {
   "base_numbering": 1,
   "nav_menu": {},
   "number_sections": true,
   "sideBar": true,
   "skip_h1_title": false,
   "title_cell": "Table of Contents",
   "title_sidebar": "Contents",
   "toc_cell": true,
   "toc_position": {},
   "toc_section_display": true,
   "toc_window_display": false
  },
  "varInspector": {
   "cols": {
    "lenName": 16,
    "lenType": 16,
    "lenVar": 40
   },
   "kernels_config": {
    "python": {
     "delete_cmd_postfix": "",
     "delete_cmd_prefix": "del ",
     "library": "var_list.py",
     "varRefreshCmd": "print(var_dic_list())"
    },
    "r": {
     "delete_cmd_postfix": ") ",
     "delete_cmd_prefix": "rm(",
     "library": "var_list.r",
     "varRefreshCmd": "cat(var_dic_list()) "
    }
   },
   "types_to_exclude": [
    "module",
    "function",
    "builtin_function_or_method",
    "instance",
    "_Feature"
   ],
   "window_display": false
  }
 },
 "nbformat": 4,
 "nbformat_minor": 4
}
